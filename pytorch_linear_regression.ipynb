{
  "nbformat": 4,
  "nbformat_minor": 0,
  "metadata": {
    "colab": {
      "provenance": []
    },
    "kernelspec": {
      "name": "python3",
      "display_name": "Python 3"
    },
    "language_info": {
      "name": "python"
    },
    "accelerator": "GPU"
  },
  "cells": [
    {
      "cell_type": "markdown",
      "source": [
        "# 01. PyTorch Linear Regression"
      ],
      "metadata": {
        "id": "N8LsPXZti9Sw"
      }
    },
    {
      "cell_type": "code",
      "source": [
        "# Import necessary libraries\n",
        "import numpy as np\n",
        "import pandas as pd\n",
        "import matplotlib.pyplot as plt\n",
        "import torch\n",
        "from torch import nn"
      ],
      "metadata": {
        "id": "Glu2fM4dkNlx"
      },
      "execution_count": 1,
      "outputs": []
    },
    {
      "cell_type": "markdown",
      "source": [
        "## 1. Create a straight line dataset using the linear regression formula (`weight * X + bias`).\n",
        "  * Set `weight=0.3` and `bias=0.9` there should be at least 100 datapoints total. \n",
        "  * Split the data into 80% training, 20% testing.\n",
        "  * Plot the training and testing data so it becomes visual.\n",
        "\n",
        
      ],
      "metadata": {
        "id": "g7HUhxCxjeBx"
      }
    },
    {
      "cell_type": "code",
      "source": [
        "# Create the data parameters\n",
        "weight = 0.7\n",
        "bias = 0.3\n",
        "\n",
        "# Create data\n",
        "start = 0\n",
        "end = 1\n",
        "step = 0.02\n",
        "\n",
        "# Make X and y using linear regression feature\n",
        "X = torch.arange(start, end, step).unsqueeze(dim=1)\n",
        "y = weight * X + bias\n",
        "print(f\"Number of X samples: {len(X)}\")\n",
        "print(f\"Number of y samples: {len(y)}\")\n",
        "print(f\"First 10 X & y samples:\\nX: {X[:10]}\\ny: {y[:10]}\")"
      ],
      "metadata": {
        "id": "KbDG5MV7jhvE",
        "colab": {
          "base_uri": "https://localhost:8080/"
        },
        "outputId": "d617cb89-2d8a-47ca-aa2f-8ef09ffe959c"
      },
      "execution_count": 5,
      "outputs": [
        {
          "output_type": "stream",
          "name": "stdout",
          "text": [
            "Number of X samples: 50\n",
            "Number of y samples: 50\n",
            "First 10 X & y samples:\n",
            "X: tensor([[0.0000],\n",
            "        [0.0200],\n",
            "        [0.0400],\n",
            "        [0.0600],\n",
            "        [0.0800],\n",
            "        [0.1000],\n",
            "        [0.1200],\n",
            "        [0.1400],\n",
            "        [0.1600],\n",
            "        [0.1800]])\n",
            "y: tensor([[0.3000],\n",
            "        [0.3140],\n",
            "        [0.3280],\n",
            "        [0.3420],\n",
            "        [0.3560],\n",
            "        [0.3700],\n",
            "        [0.3840],\n",
            "        [0.3980],\n",
            "        [0.4120],\n",
            "        [0.4260]])\n"
          ]
        }
      ]
    },
    {
      "cell_type": "code",
      "source": [
        "# Split the data into training and testing\n",
        "train_size = int(0.8 * len(X))\n",
        "X_train, y_train = X[:train_size] , y[:train_size]\n",
        "X_test, y_test = X[train_size:] , y[train_size:]"
      ],
      "metadata": {
        "id": "GlwtT1djkmLw"
      },
      "execution_count": 8,
      "outputs": []
    },
    {
      "cell_type": "code",
      "source": [
        "# Plot the training and testing data \n",
        "plt.scatter(X_train, y_train)\n",
        "plt.scatter(X_test, y_test)"
      ],
      "metadata": {
        "id": "29iQZFNhlYJ-",
        "colab": {
          "base_uri": "https://localhost:8080/",
          "height": 448
        },
        "outputId": "77758e5d-4e3c-40cf-c125-314d1df53e0e"
      },
      "execution_count": 9,
      "outputs": [
        {
          "output_type": "execute_result",
          "data": {
            "text/plain": [
              "<matplotlib.collections.PathCollection at 0x7f4728d8cd00>"
            ]
          },
          "metadata": {},
          "execution_count": 9
        },
        {
          "output_type": "display_data",
          "data": {
            "text/plain": [
              "<Figure size 640x480 with 1 Axes>"
            ],
            "image/png": "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\n"
          },
          "metadata": {}
        }
      ]
    },
    {
      "cell_type": "markdown",
      "source": [
        "## 2. Build a PyTorch model by subclassing `nn.Module`. \n",
        "  * Inside should be a randomly initialized `nn.Parameter()` with `requires_grad=True`, one for `weights` and one for `bias`. \n",
        "  * Implement the `forward()` method to compute the linear regression function you used to create the dataset in 1. \n",
        "  * Once you've constructed the model, make an instance of it and check its `state_dict()`.\n",
        "  * **Note:** If you'd like to use `nn.Linear()` instead of `nn.Parameter()` you can."
      ],
      "metadata": {
        "id": "ImZoe3v8jif8"
      }
    },
    {
      "cell_type": "code",
      "source": [
        "# Create PyTorch linear regression model by subclassing nn.Module\n",
        "class LR(nn.Module):\n",
        "  def __init__(self):\n",
        "     super().__init__()\n",
        "     self.linear_layer = nn.Linear(in_features = 1, out_features=1)\n",
        "  def forward(self, x:torch.Tensor) -> torch.Tensor:\n",
        "    return self.linear_layer(x)\n"
      ],
      "metadata": {
        "id": "qzd__Y5rjtB8"
      },
      "execution_count": 10,
      "outputs": []
    },
    {
      "cell_type": "code",
      "source": [
        "# Instantiate the model and put it to the target device\n",
        "my_model = LR()"
      ],
      "metadata": {
        "id": "5LdcDnmOmyQ2"
      },
      "execution_count": 11,
      "outputs": []
    },
    {
      "cell_type": "markdown",
      "source": [
        "## 3. Create a loss function and optimizer using `nn.L1Loss()` and `torch.optim.SGD(params, lr)` respectively. \n",
        "  * Set the learning rate of the optimizer to be 0.01 and the parameters to optimize should be the model parameters from the model you created in 2.\n",
        "  * Write a training loop to perform the appropriate training steps for 300 epochs.\n",
        "  * The training loop should test the model on the test dataset every 20 epochs."
      ],
      "metadata": {
        "id": "G6nYOrJhjtfu"
      }
    },
    {
      "cell_type": "code",
      "source": [
        "# Create the loss function and optimizer\n",
        "loss_fn = nn.L1Loss()\n",
        "optimizer = torch.optim.SGD(params = my_model.parameters(), lr = 0.01)"
      ],
      "metadata": {
        "id": "ltvoZ-FWjv1j"
      },
      "execution_count": 14,
      "outputs": []
    },
    {
      "cell_type": "code",
      "source": [
        "# Training loop\n",
        "\n",
        "epochs = 300\n",
        "# Train model for 300 epochs\n",
        "\n",
        "\n",
        "# Send data to target device\n",
        "\n",
        "\n",
        "for epoch in range(epochs):\n",
        "  ### Training\n",
        "\n",
        "  # Put model in train mode\n",
        "\n",
        "  my_model.train()\n",
        "  # 1. Forward pass\n",
        "  y_fit = my_model(X_train)  \n",
        "\n",
        "  # 2. Calculate loss\n",
        "  loss = loss_fn(y_fit, y_train)  \n",
        "\n",
        "  # 3. Zero gradients\n",
        "  optimizer.zero_grad()\n",
        "\n",
        "  # 4. Backpropagation\n",
        "  loss.backward()\n",
        "\n",
        "  # 5. Step the optimizer\n",
        "  optimizer.step()\n",
        "\n",
        "  ### Perform testing every 20 epochs\n",
        "  if epoch % 20 == 0:\n",
        "\n",
        "    # Put model in evaluation mode and setup inference context \n",
        "    \n",
        "      # 1. Forward pass\n",
        "      y_pred = my_model(X_test)\n",
        "      # 2. Calculate test loss\n",
        "      test_loss = loss_fn(y_pred, y_test)\n",
        "      # Print out what's happening\n",
        "      print(f\"Epoch: {epoch} | Train loss: {loss:.3f} | Test loss: {test_loss:.3f}\")"
      ],
      "metadata": {
        "id": "xpE83NvNnkdV",
        "colab": {
          "base_uri": "https://localhost:8080/"
        },
        "outputId": "1ddd3bcd-7acf-41db-cf49-337e4e5406e6"
      },
      "execution_count": 16,
      "outputs": [
        {
          "output_type": "stream",
          "name": "stdout",
          "text": [
            "Epoch: 0 | Train loss: 1.325 | Test loss: 1.584\n",
            "Epoch: 20 | Train loss: 1.094 | Test loss: 1.314\n",
            "Epoch: 40 | Train loss: 0.864 | Test loss: 1.045\n",
            "Epoch: 60 | Train loss: 0.633 | Test loss: 0.775\n",
            "Epoch: 80 | Train loss: 0.403 | Test loss: 0.506\n",
            "Epoch: 100 | Train loss: 0.172 | Test loss: 0.237\n",
            "Epoch: 120 | Train loss: 0.017 | Test loss: 0.040\n",
            "Epoch: 140 | Train loss: 0.010 | Test loss: 0.023\n",
            "Epoch: 160 | Train loss: 0.003 | Test loss: 0.007\n",
            "Epoch: 180 | Train loss: 0.006 | Test loss: 0.004\n",
            "Epoch: 200 | Train loss: 0.006 | Test loss: 0.004\n",
            "Epoch: 220 | Train loss: 0.006 | Test loss: 0.004\n",
            "Epoch: 240 | Train loss: 0.006 | Test loss: 0.004\n",
            "Epoch: 260 | Train loss: 0.006 | Test loss: 0.004\n",
            "Epoch: 280 | Train loss: 0.006 | Test loss: 0.004\n"
          ]
        }
      ]
    },
    {
      "cell_type": "markdown",
      "source": [
        "## 4. Make predictions with the trained model on the test data.\n",
        "  * Visualize these predictions against the original training and testing data (**note:** you may need to make sure the predictions are *not* on the GPU if you want to use non-CUDA-enabled libraries such as matplotlib to plot)."
      ],
      "metadata": {
        "id": "x4j4TM18jwa7"
      }
    },
    {
      "cell_type": "markdown",
      "source": [],
      "metadata": {
        "id": "mSWFvQ6OvYix"
      }
    },
    {
      "cell_type": "code",
      "source": [
        "# Plot the predictions (these may need to be on a specific device)\n",
        "plt.scatter(X_train, y_train)\n",
        "plt.scatter(X_test, y_pred.detach().numpy())"
      ],
      "metadata": {
        "id": "K3BdmQaDpFo8",
        "colab": {
          "base_uri": "https://localhost:8080/",
          "height": 448
        },
        "outputId": "2bd4107a-9463-4c53-de95-b817ff5b2566"
      },
      "execution_count": 18,
      "outputs": [
        {
          "output_type": "execute_result",
          "data": {
            "text/plain": [
              "<matplotlib.collections.PathCollection at 0x7f470e9c0520>"
            ]
          },
          "metadata": {},
          "execution_count": 18
        },
        {
          "output_type": "display_data",
          "data": {
            "text/plain": [
              "<Figure size 640x480 with 1 Axes>"
            ],
            "image/png": "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\n"
          },
          "metadata": {}
        }
      ]
    },
    {
      "cell_type": "markdown",
      "source": [
        "## 5. Save your trained model's `state_dict()` to file.\n",
        "  * Create a new instance of your model class you made in 2. and load in the `state_dict()` you just saved to it.\n",
        "  * Perform predictions on your test data with the loaded model and confirm they match the original model predictions from 4."
      ],
      "metadata": {
        "id": "s2OnlMWKjzX8"
      }
    },
    {
      "cell_type": "code",
      "source": [
        "from pathlib import Path\n",
        "\n",
        "# 1. Create models directory \n",
        "model_folder = Path(\"model_1\")\n",
        "\n",
        "# 2. Create model save path \n",
        "model_folder.mkdir(parents=True, exist_ok=True)\n",
        "# 3. Save the model state dict\n",
        "model_name = \"model_1_save.pth\"\n",
        "model_saving_path = model_folder/model_name\n",
        "# 3. Save the model state dict \n",
        "print(f\"Saving model to: {model_saving_path}\")\n",
        "torch.save(obj=my_model.state_dict(), # only saving the state_dict() only saves the models learned parameters\n",
        "           f=model_saving_path) "
      ],
      "metadata": {
        "id": "hgxhgD14qr-i",
        "colab": {
          "base_uri": "https://localhost:8080/"
        },
        "outputId": "0984a555-a8e2-4c3a-fd9d-e65659c7b88e"
      },
      "execution_count": 23,
      "outputs": [
        {
          "output_type": "stream",
          "name": "stdout",
          "text": [
            "Saving model to: model_1/model_1_save.pth\n"
          ]
        }
      ]
    },
    {
      "cell_type": "code",
      "source": [
        "# Create new instance of model and load saved state dict (make sure to put it on the target device)\n",
        "my_model_load = LR()\n",
        "my_model_load.load_state_dict(torch.load(model_saving_path))"
      ],
      "metadata": {
        "id": "P9vTgiLRrJ7T",
        "colab": {
          "base_uri": "https://localhost:8080/"
        },
        "outputId": "f9ff0cba-e0b2-498a-f4f4-dea71a466c6f"
      },
      "execution_count": 25,
      "outputs": [
        {
          "output_type": "execute_result",
          "data": {
            "text/plain": [
              "<All keys matched successfully>"
            ]
          },
          "metadata": {},
          "execution_count": 25
        }
      ]
    },
    {
      "cell_type": "code",
      "source": [
        "# Make predictions with loaded model and compare them to the previous\n",
        "y_pred_new = my_model_load(X_test)"
      ],
      "metadata": {
        "id": "8UGX3VebrVtI"
      },
      "execution_count": 26,
      "outputs": []
    },
    {
      "cell_type": "code",
      "source": [
        "plt.scatter(X_test, y_pred.detach().numpy())\n",
        "plt.scatter(X_test, y_pred_new.detach().numpy())"
      ],
      "metadata": {
        "colab": {
          "base_uri": "https://localhost:8080/",
          "height": 448
        },
        "id": "cOfBEwN9uPqP",
        "outputId": "e4e70750-fe97-49f5-a68b-16fb3f2cf94e"
      },
      "execution_count": 29,
      "outputs": [
        {
          "output_type": "execute_result",
          "data": {
            "text/plain": [
              "<matplotlib.collections.PathCollection at 0x7f470ea3e730>"
            ]
          },
          "metadata": {},
          "execution_count": 29
        },
        {
          "output_type": "display_data",
          "data": {
            "text/plain": [
              "<Figure size 640x480 with 1 Axes>"
            ],
            "image/png": "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\n"
          },
          "metadata": {}
        }
      ]
    }
  ]
}
